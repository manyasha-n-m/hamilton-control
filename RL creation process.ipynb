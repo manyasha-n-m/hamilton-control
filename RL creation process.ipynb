{
 "cells": [
  {
   "cell_type": "code",
   "execution_count": 1,
   "id": "9f96266f",
   "metadata": {},
   "outputs": [],
   "source": [
    "import numpy as np\n",
    "import matplotlib.pyplot as plt\n",
    "%matplotlib inline"
   ]
  },
  {
   "cell_type": "code",
   "execution_count": 80,
   "id": "f45dd7b6",
   "metadata": {},
   "outputs": [],
   "source": [
    "class RLnetwork:\n",
    "    def __init__(self, f, g, I_):\n",
    "        self.f = f\n",
    "        self.g = g\n",
    "        self.I_ = np.array([I_, -I_, 0, 0])\n",
    "        self.Wa = np.ones(9)\n",
    "        self.Wc = np.ones(9)\n",
    "        self.Gamma = np.eye(9, dtype=int)*10\n",
    "        \n",
    "        self.v = 1\n",
    "        self.G = 100\n",
    "        self.R = 1\n",
    "        self.b = 1\n",
    "        self.nc1 = 1\n",
    "        self.nc2 = 1\n",
    "        self.na1 = 10\n",
    "        self.na2 = 1\n",
    "        \n",
    "        \n",
    "    def equation(self, x, u):\n",
    "        return self.f(x) + self.g(x) * u\n",
    "    \n",
    "    @staticmethod\n",
    "    def sigma(x):\n",
    "        return np.array([\n",
    "            x[0]**2,\n",
    "            x[0]*x[1],\n",
    "            x[1]**2,\n",
    "            np.sin(x[2]),\n",
    "            np.sin(x[3]),\n",
    "            np.cos(x[2]),\n",
    "            np.cos(x[3]),\n",
    "            np.sin(x[3]-x[2]),\n",
    "            np.cos(x[3]-x[2])\n",
    "        ])\n",
    "    \n",
    "    @staticmethod\n",
    "    def grad_sigma(x):\n",
    "        ds = np.empty((9,4))\n",
    "        ds[0] = np.array([2*x[0], 0, 0, 0])\n",
    "        ds[1] = np.array([x[1], x[0], 0, 0])\n",
    "        ds[2] = np.array([0, 2*x[1], 0, 0])\n",
    "        ds[3] = np.array([0, 0, np.cos(x[2]), 0])\n",
    "        ds[4] = np.array([0, 0, 0, np.cos(x[3])])\n",
    "        ds[5] = np.array([0, 0, -np.sin(x[2]), 0])\n",
    "        ds[6] = np.array([0, 0, 0, -np.sin(x[3])])\n",
    "        ds[7] = np.array([0, 0, -np.cos(x[3]-x[2]), np.cos(x[3]-x[2])])    \n",
    "        ds[8] = np.array([0, 0, np.sin(x[3]-x[2]), -np.sin(x[3]-x[2])])\n",
    "        return ds\n",
    "    \n",
    "    def sigmaG(self, x):\n",
    "        gs = self.grad_sigma(x-self.I_)\n",
    "        g = self.g(x)[:, None]\n",
    "        return (1/self.R) * (gs @ g @ g.T @ gs.T) \n",
    "    \n",
    "    def r(self, x, u):\n",
    "        return (1/2)* (x[0])**2 + self.R*(u**2)\n",
    "    \n",
    "    def V(self, x):\n",
    "        return self.W_c @ self.sigma(x-self.I_)\n",
    "    \n",
    "    def u(self, x):\n",
    "        gs = self.grad_sigma(x-self.I_)\n",
    "        return - (1/2) * (1/self.R) * (self.g(x)@ (gs.T @ self.Wa))\n",
    "    \n",
    "    def delta(self, x):\n",
    "        u = self.u(x)\n",
    "        return (self.Wc[:, None].T @ self.grad_sigma(x-self.I_)) @ self.equation(x, u) + self.r(x-self.I_, u)\n",
    "    \n",
    "    @staticmethod\n",
    "    def generate_x(x, N=10):\n",
    "        perturbation = np.random.uniform(-1, 1, N)\n",
    "        x_set = np.vstack([perturbation, -perturbation, np.zeros((2, N))]).T + x\n",
    "        return x_set\n",
    "    \n",
    "    \n",
    "    def w(self, x):\n",
    "        xdot = self.equation(x, self.u(x))\n",
    "        gs = self.grad_sigma(x-self.I_)\n",
    "        return gs@xdot\n",
    "    \n",
    "    def p(self, w):\n",
    "        return 1 + self.v * (w[:, None].T @ self.Gamma @ w)\n",
    "    \n",
    "    def upd_Wc(self, x, x_set, dt=0.1):\n",
    "        w = self.w(x)\n",
    "        w1 = -self.nc1*self.delta(x)* (self.Gamma @ w) / self.p(w)\n",
    "        \n",
    "        si = []\n",
    "        for xi in x_set:\n",
    "            _wi = self.w(xi)\n",
    "            _pi = self.p(_wi)\n",
    "            _deltai = self.delta(xi)\n",
    "            si.append(_deltai*_wi/_pi)\n",
    "        s = np.sum(si, axis=0)/len(x_set)\n",
    "        w2 = -self.nc2* (self.Gamma @ s)\n",
    "        \n",
    "        self.Wc = self.Wc + (w1+w2)*dt\n",
    "        \n",
    "    def upd_Gamma(self, x, dt=0.1):\n",
    "        w = self.w(x)\n",
    "        p = self.p(w)\n",
    "        g = - self.nc1*(self.Gamma@w[:,None])@(w[:,None].T@self.Gamma)/(p**2)\n",
    "        \n",
    "        gamma = self.b*self.Gamma + g\n",
    "        self.Gamma = gamma*(np.linalg.norm(gamma)<self.G)\n",
    "        \n",
    "    def upd_Wa(self, x, x_set, dt=0.1):\n",
    "        w = self.w(x)\n",
    "        p = self.p(w)\n",
    "        sigmaG = self.sigmaG(x)\n",
    "        \n",
    "        w1 = - self.na1 * (self.Wa - self.Wc)\n",
    "        \n",
    "        w2 = - self.na2 * self.Wa\n",
    "        \n",
    "        w3 = (self.nc1/(4*p)) * (sigmaG.T @ self.Wa[:, None] @ w[:, None].T @ self.Wc)\n",
    "        \n",
    "        si = []\n",
    "        for xi in x_set:\n",
    "            _wi = self.w(xi)\n",
    "            _pi = self.p(_wi)\n",
    "            _sigmaGi = self.sigmaG(xi)\n",
    "            si.append((_sigmaGi.T @ self.Wa[:, None] @ _wi[:, None].T)/_pi)\n",
    "        s = np.sum(si, axis=0)/len(x_set)\n",
    "        w4 = (self.nc2/4) *(s @ self.Wc)\n",
    "        \n",
    "        self.Wa = self.Wa + (w1+w2+w3+w4)*dt\n",
    "    \n",
    "    def optimize(self, x):\n",
    "        x_set = self.generate_x(x)\n",
    "        \n",
    "        self.upd_Gamma(x)\n",
    "        self.upd_Wc(x, x_set)\n",
    "        self.upd_Wa(x, x_set)\n",
    "        return self.u(x)\n",
    "        "
   ]
  },
  {
   "cell_type": "code",
   "execution_count": 81,
   "id": "c7cc2478",
   "metadata": {},
   "outputs": [],
   "source": [
    "from models import Model1"
   ]
  },
  {
   "cell_type": "code",
   "execution_count": 82,
   "id": "da22dd9b",
   "metadata": {},
   "outputs": [
    {
     "name": "stdout",
     "output_type": "stream",
     "text": [
      "-2.3938172829127593\n",
      "0.06760010610413802\n",
      "0.0005588399128343413\n",
      "0.06863668067924067\n",
      "0.007695745341941951\n",
      "-0.028526284040654826\n",
      "-0.0022505688026726034\n",
      "0.0024646470811955368\n",
      "0.00810584571540307\n",
      "-0.01002827022395758\n",
      "-0.011752823203873941\n",
      "-0.0046847930178604\n",
      "-0.0007955566938772363\n",
      "0.010983257911954869\n",
      "0.016676919744850416\n",
      "0.011567106649192027\n",
      "0.01136051817186745\n",
      "0.0100582677537715\n",
      "0.0059491993417686295\n",
      "0.005502549747735008\n"
     ]
    }
   ],
   "source": [
    "m1 = Model1(np.array([6, 4, 0, 0]))\n",
    "net = RLnetwork(m1.f, m1.g, 8)\n",
    "u = net.u(m1.state)\n",
    "\n",
    "for i in range(990):\n",
    "    m1.update(u)\n",
    "    u = net.optimize(m1.state)\n",
    "    print(u) if i%100==0 else _"
   ]
  },
  {
   "cell_type": "code",
   "execution_count": 83,
   "id": "5b35bb50",
   "metadata": {},
   "outputs": [
    {
     "data": {
      "text/plain": [
       "array([   8.03808734,    1.96191266, 1648.12335693, 1502.3354681 ])"
      ]
     },
     "execution_count": 83,
     "metadata": {},
     "output_type": "execute_result"
    }
   ],
   "source": [
    "m1.state"
   ]
  },
  {
   "cell_type": "code",
   "execution_count": 84,
   "id": "2516d8f0",
   "metadata": {},
   "outputs": [
    {
     "data": {
      "text/plain": [
       "[<matplotlib.lines.Line2D at 0x250d96ff4f0>]"
      ]
     },
     "execution_count": 84,
     "metadata": {},
     "output_type": "execute_result"
    },
    {
     "data": {
      "image/png": "[encoded data removed]",
      "text/plain": [
       "<Figure size 432x288 with 1 Axes>"
      ]
     },
     "metadata": {
      "needs_background": "light"
     },
     "output_type": "display_data"
    }
   ],
   "source": [
    "X = m1.evolution\n",
    "plt.plot(X[:,0])"
   ]
  },
  {
   "cell_type": "code",
   "execution_count": 85,
   "id": "c08fb61b",
   "metadata": {},
   "outputs": [
    {
     "data": {
      "text/plain": [
       "(array([ 0.98,  1.21,  0.61,  0.  ,  0.  , -0.  ,  0.  ,  0.57,  0.54]),\n",
       " array([ 0.89,  1.1 ,  0.55,  0.  ,  0.  , -0.  ,  0.  ,  0.52,  0.49]))"
      ]
     },
     "execution_count": 85,
     "metadata": {},
     "output_type": "execute_result"
    }
   ],
   "source": [
    "net.Wc.round(2), net.Wa.round(2)"
   ]
  },
  {
   "cell_type": "code",
   "execution_count": null,
   "id": "391d7999",
   "metadata": {},
   "outputs": [],
   "source": []
  },
  {
   "cell_type": "code",
   "execution_count": null,
   "id": "9f72b467",
   "metadata": {},
   "outputs": [],
   "source": []
  }
 ],
 "metadata": {
  "kernelspec": {
   "display_name": "Python 3 (ipykernel)",
   "language": "python",
   "name": "python3"
  },
  "language_info": {
   "codemirror_mode": {
    "name": "ipython",
    "version": 3
   },
   "file_extension": ".py",
   "mimetype": "text/x-python",
   "name": "python",
   "nbconvert_exporter": "python",
   "pygments_lexer": "ipython3",
   "version": "3.9.12"
  }
 },
 "nbformat": 4,
 "nbformat_minor": 5
}
