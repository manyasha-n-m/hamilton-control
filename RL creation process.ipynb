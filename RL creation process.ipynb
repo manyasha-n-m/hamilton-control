{
 "cells": [
  {
   "cell_type": "code",
   "execution_count": 1,
   "id": "9f96266f",
   "metadata": {},
   "outputs": [],
   "source": [
    "import numpy as np\n",
    "import matplotlib.pyplot as plt\n",
    "%matplotlib inline"
   ]
  },
  {
   "cell_type": "code",
   "execution_count": 89,
   "id": "f45dd7b6",
   "metadata": {},
   "outputs": [],
   "source": [
    "class RLnetwork:\n",
    "    def __init__(self, f, g, I_):\n",
    "        self.f = f\n",
    "        self.g = g\n",
    "        self.I_ = np.array([I_, -I_, 0, 0])\n",
    "        self.Wa = np.ones(9)\n",
    "        self.Wc = np.ones(9)\n",
    "        self.Gamma = np.eye(9, dtype=int)*9\n",
    "        \n",
    "        self.v = 1\n",
    "        self.G = 100\n",
    "        self.R = 1\n",
    "        self.b = 1\n",
    "        self.nc1 = 1\n",
    "        self.nc2 = 1\n",
    "        self.na1 = 5\n",
    "        self.na2 = 1\n",
    "        \n",
    "        \n",
    "    def equation(self, x, u):\n",
    "        return self.f(x) + self.g(x) * u\n",
    "    \n",
    "    @staticmethod\n",
    "    def sigma(x):\n",
    "        return np.array([\n",
    "            x[0]**2,\n",
    "            x[0]*x[1],\n",
    "            x[1]**2,\n",
    "            np.sin(x[2]),\n",
    "            np.sin(x[3]),\n",
    "            np.cos(x[2]),\n",
    "            np.cos(x[3]),\n",
    "            np.sin(x[3]-x[2]),\n",
    "            np.cos(x[3]-x[2])\n",
    "        ])\n",
    "    \n",
    "    @staticmethod\n",
    "    def grad_sigma(x):\n",
    "        ds = np.empty((9,4))\n",
    "        ds[0] = np.array([2*x[0], 0, 0, 0])\n",
    "        ds[1] = np.array([x[1], x[0], 0, 0])\n",
    "        ds[2] = np.array([0, 2*x[1], 0, 0])\n",
    "        ds[3] = np.array([0, 0, np.cos(x[2]), 0])\n",
    "        ds[4] = np.array([0, 0, 0, np.cos(x[3])])\n",
    "        ds[5] = np.array([0, 0, -np.sin(x[2]), 0])\n",
    "        ds[6] = np.array([0, 0, 0, -np.sin(x[3])])\n",
    "        ds[7] = np.array([0, 0, -np.cos(x[3]-x[2]), np.cos(x[3]-x[2])])    \n",
    "        ds[8] = np.array([0, 0, np.sin(x[3]-x[2]), -np.sin(x[3]-x[2])])\n",
    "        return ds\n",
    "    \n",
    "    def sigmaG(self, x):\n",
    "        gs = self.grad_sigma(x-self.I_)\n",
    "        g = self.g(x)[:, None]\n",
    "        return (1/self.R) * (gs @ g @ g.T @ gs.T) \n",
    "    \n",
    "    def r(self, x, u):\n",
    "        return (1/2)*(x[0])**2 + self.R*(u**2)\n",
    "    \n",
    "    def V(self, x):\n",
    "        return self.Wc @ self.sigma(x-self.I_)\n",
    "    \n",
    "    def u(self, x):\n",
    "        gs = self.grad_sigma(x-self.I_)\n",
    "        return - (1/2) * (1/self.R) * (self.g(x)@ (gs.T @ self.Wa))\n",
    "    \n",
    "    def delta(self, x):\n",
    "        u = self.u(x)\n",
    "        return (self.Wc[:, None].T @ self.grad_sigma(x-self.I_)) @ self.equation(x, u) + self.r(x-self.I_, u)\n",
    "    \n",
    "    @staticmethod\n",
    "    def generate_x(x, N=10):\n",
    "        perturbation = np.random.uniform(-1, 1, N)\n",
    "        x_set = np.vstack([perturbation, -perturbation, np.zeros((2, N))]).T + x\n",
    "        return x_set\n",
    "    \n",
    "    \n",
    "    def w(self, x):\n",
    "        xdot = self.equation(x, self.u(x))\n",
    "        gs = self.grad_sigma(x-self.I_)\n",
    "        return gs@xdot\n",
    "    \n",
    "    def p(self, w):\n",
    "        return 1 + self.v * (w[:, None].T @ self.Gamma @ w)\n",
    "    \n",
    "    def upd_Wc(self, x, x_set, dt=0.1):\n",
    "        w = self.w(x)\n",
    "        w1 = -self.nc1*self.delta(x)* (self.Gamma @ w) / self.p(w)\n",
    "        \n",
    "        si = []\n",
    "        for xi in x_set:\n",
    "            _wi = self.w(xi)\n",
    "            _pi = self.p(_wi)\n",
    "            _deltai = self.delta(xi)\n",
    "            si.append(_deltai*_wi/_pi)\n",
    "        s = np.sum(si, axis=0)/len(x_set)\n",
    "        w2 = -self.nc2* (self.Gamma @ s)\n",
    "        \n",
    "        self.Wc = self.Wc + (w1+w2)*dt\n",
    "        \n",
    "    def upd_Gamma(self, x, dt=0.1):\n",
    "        w = self.w(x)\n",
    "        p = self.p(w)\n",
    "        g = - self.nc1*(self.Gamma@w[:,None])@(w[:,None].T@self.Gamma)/(p**2)\n",
    "        \n",
    "        gamma = self.b*self.Gamma + g\n",
    "        self.Gamma = gamma*(np.linalg.norm(gamma)<self.G)\n",
    "        \n",
    "    def upd_Wa(self, x, x_set, dt=0.1):\n",
    "        w = self.w(x)\n",
    "        p = self.p(w)\n",
    "        sigmaG = self.sigmaG(x)\n",
    "        \n",
    "        w1 = - self.na1 * (self.Wa - self.Wc)\n",
    "        \n",
    "        w2 = - self.na2 * self.Wa\n",
    "        \n",
    "        w3 = (self.nc1/(4*p)) * (sigmaG.T @ self.Wa[:, None] @ w[:, None].T @ self.Wc)\n",
    "        \n",
    "        si = []\n",
    "        for xi in x_set:\n",
    "            _wi = self.w(xi)\n",
    "            _pi = self.p(_wi)\n",
    "            _sigmaGi = self.sigmaG(xi)\n",
    "            si.append((_sigmaGi.T @ self.Wa[:, None] @ _wi[:, None].T)/_pi)\n",
    "        s = np.sum(si, axis=0)/len(x_set)\n",
    "        w4 = (self.nc2/4) *(s @ self.Wc)\n",
    "        \n",
    "        self.Wa = self.Wa + (w1+w2+w3+w4)*dt\n",
    "    \n",
    "    def optimize(self, x):\n",
    "        x_set = self.generate_x(x)\n",
    "        \n",
    "        self.upd_Gamma(x)\n",
    "        self.upd_Wc(x, x_set)\n",
    "        self.upd_Wa(x, x_set)\n",
    "        return self.u(x)\n",
    "        "
   ]
  },
  {
   "cell_type": "code",
   "execution_count": 90,
   "id": "7498d1af",
   "metadata": {},
   "outputs": [],
   "source": [
    "from models import Model1"
   ]
  },
  {
   "cell_type": "code",
   "execution_count": 91,
   "id": "bbd560c9",
   "metadata": {},
   "outputs": [
    {
     "data": {
      "text/plain": [
       "-0.0"
      ]
     },
     "execution_count": 91,
     "metadata": {},
     "output_type": "execute_result"
    }
   ],
   "source": [
    "m1 = Model1(np.array([6, 4, 0, 0]))\n",
    "net = RLnetwork(m1.f, m1.g, 8)\n",
    "u = net.u(m1.state)\n",
    "u"
   ]
  },
  {
   "cell_type": "code",
   "execution_count": 92,
   "id": "fbd33d32",
   "metadata": {},
   "outputs": [
    {
     "name": "stdout",
     "output_type": "stream",
     "text": [
      "-1.2238734621345713\n",
      "-0.0036803526050801505\n",
      "0.034638352430433894\n",
      "-0.017240398759278186\n",
      "-0.019485394289792346\n",
      "-0.0032785262044550123\n",
      "0.01281501891278447\n",
      "-0.015745640684194928\n",
      "-0.00020695565048711728\n",
      "0.015734351542578295\n"
     ]
    }
   ],
   "source": [
    "for i in range(990):\n",
    "    m1.update(u)\n",
    "    u = net.optimize(m1.state)\n",
    "    print(u) if i%100==0 else _"
   ]
  },
  {
   "cell_type": "code",
   "execution_count": 93,
   "id": "0410959a",
   "metadata": {},
   "outputs": [
    {
     "data": {
      "text/plain": [
       "array([   8.02973692,    1.97026308, 1664.43853008, 1500.6167723 ])"
      ]
     },
     "execution_count": 93,
     "metadata": {},
     "output_type": "execute_result"
    }
   ],
   "source": [
    "m1.state"
   ]
  },
  {
   "cell_type": "code",
   "execution_count": 94,
   "id": "32cb5754",
   "metadata": {},
   "outputs": [
    {
     "data": {
      "text/plain": [
       "<module 'matplotlib.pyplot' from 'C:\\\\Users\\\\manyasha_n_m\\\\Desktop\\\\FI81\\\\4\\\\diploma\\\\env\\\\lib\\\\site-packages\\\\matplotlib\\\\pyplot.py'>"
      ]
     },
     "execution_count": 94,
     "metadata": {},
     "output_type": "execute_result"
    },
    {
     "data": {
      "image/png": "[encoded data removed]",
      "text/plain": [
       "<Figure size 720x360 with 1 Axes>"
      ]
     },
     "metadata": {
      "needs_background": "light"
     },
     "output_type": "display_data"
    }
   ],
   "source": [
    "m1.plot_evolution(0)"
   ]
  },
  {
   "cell_type": "code",
   "execution_count": 97,
   "id": "55215d2c",
   "metadata": {},
   "outputs": [
    {
     "data": {
      "text/plain": [
       "<module 'matplotlib.pyplot' from 'C:\\\\Users\\\\manyasha_n_m\\\\Desktop\\\\FI81\\\\4\\\\diploma\\\\env\\\\lib\\\\site-packages\\\\matplotlib\\\\pyplot.py'>"
      ]
     },
     "execution_count": 97,
     "metadata": {},
     "output_type": "execute_result"
    },
    {
     "data": {
      "image/png": "[encoded data removed]",
      "text/plain": [
       "<Figure size 720x360 with 1 Axes>"
      ]
     },
     "metadata": {
      "needs_background": "light"
     },
     "output_type": "display_data"
    },
    {
     "data": {
      "image/png": "[encoded data removed]",
      "text/plain": [
       "<Figure size 720x360 with 1 Axes>"
      ]
     },
     "metadata": {
      "needs_background": "light"
     },
     "output_type": "display_data"
    }
   ],
   "source": [
    "m1.plot_measurable"
   ]
  },
  {
   "cell_type": "code",
   "execution_count": 95,
   "id": "76844641",
   "metadata": {},
   "outputs": [
    {
     "data": {
      "text/plain": [
       "(array([ 0.97,  1.21,  0.6 ,  0.  , -0.  ,  0.01,  0.  ,  0.5 ,  0.48]),\n",
       " array([ 0.81,  1.01,  0.5 , -0.  , -0.  ,  0.  ,  0.  ,  0.42,  0.4 ]))"
      ]
     },
     "execution_count": 95,
     "metadata": {},
     "output_type": "execute_result"
    }
   ],
   "source": [
    "net.Wc.round(2), net.Wa.round(2)"
   ]
  },
  {
   "cell_type": "code",
   "execution_count": 96,
   "id": "00c2bd43",
   "metadata": {},
   "outputs": [
    {
     "data": {
      "text/plain": [
       "array([[ 9.  ,  0.  , -0.  , -0.  , -0.  , -0.  , -0.  ,  0.  ,  0.  ],\n",
       "       [ 0.  ,  9.  ,  0.  ,  0.  ,  0.  ,  0.  ,  0.  , -0.  ,  0.  ],\n",
       "       [-0.  ,  0.  ,  8.99, -0.  , -0.  , -0.  , -0.  ,  0.  , -0.  ],\n",
       "       [-0.  ,  0.  , -0.  ,  8.48, -0.01, -0.  ,  0.  ,  0.  ,  0.  ],\n",
       "       [-0.  ,  0.  , -0.  , -0.01,  8.58, -0.  , -0.  ,  0.  , -0.  ],\n",
       "       [-0.  ,  0.  , -0.  , -0.  , -0.  ,  8.48, -0.01,  0.  , -0.  ],\n",
       "       [-0.  ,  0.  , -0.  ,  0.  , -0.  , -0.01,  8.58,  0.  ,  0.  ],\n",
       "       [ 0.  , -0.  ,  0.  ,  0.  ,  0.  ,  0.  ,  0.  ,  8.99,  0.  ],\n",
       "       [ 0.  ,  0.  , -0.  ,  0.  , -0.  , -0.  ,  0.  ,  0.  ,  8.99]])"
      ]
     },
     "execution_count": 96,
     "metadata": {},
     "output_type": "execute_result"
    }
   ],
   "source": [
    "net.Gamma.round(2)"
   ]
  },
  {
   "cell_type": "code",
   "execution_count": 99,
   "id": "2bbb8cea",
   "metadata": {},
   "outputs": [
    {
     "data": {
      "text/plain": [
       "<module 'matplotlib.pyplot' from 'C:\\\\Users\\\\manyasha_n_m\\\\Desktop\\\\FI81\\\\4\\\\diploma\\\\env\\\\lib\\\\site-packages\\\\matplotlib\\\\pyplot.py'>"
      ]
     },
     "execution_count": 99,
     "metadata": {},
     "output_type": "execute_result"
    },
    {
     "data": {
      "image/png": "[encoded data removed]",
      "text/plain": [
       "<Figure size 720x360 with 1 Axes>"
      ]
     },
     "metadata": {
      "needs_background": "light"
     },
     "output_type": "display_data"
    }
   ],
   "source": [
    "m1.plot_evolution(2)"
   ]
  },
  {
   "cell_type": "code",
   "execution_count": null,
   "id": "724f52f7",
   "metadata": {},
   "outputs": [],
   "source": []
  }
 ],
 "metadata": {
  "kernelspec": {
   "display_name": "Python 3 (ipykernel)",
   "language": "python",
   "name": "python3"
  },
  "language_info": {
   "codemirror_mode": {
    "name": "ipython",
    "version": 3
   },
   "file_extension": ".py",
   "mimetype": "text/x-python",
   "name": "python",
   "nbconvert_exporter": "python",
   "pygments_lexer": "ipython3",
   "version": "3.9.12"
  }
 },
 "nbformat": 4,
 "nbformat_minor": 5
}
